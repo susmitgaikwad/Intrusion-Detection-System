{
 "cells": [
  {
   "cell_type": "code",
   "execution_count": 1,
   "metadata": {},
   "outputs": [
    {
     "name": "stderr",
     "output_type": "stream",
     "text": [
      "Using TensorFlow backend.\n"
     ]
    }
   ],
   "source": [
    "from keras.models import Sequential\n",
    "from keras.layers import Dense\n",
    "from keras.utils import np_utils\n",
    "import numpy\n",
    "from numpy import array\n",
    "from numpy import argmax\n",
    "from sklearn.preprocessing import LabelEncoder\n",
    "from sklearn.preprocessing import OneHotEncoder\n",
    "import glob\n",
    "import pandas as pd\n",
    "from sklearn.preprocessing import MinMaxScaler\n",
    "# fix random seed for reproducibility\n",
    "numpy.random.seed(7)"
   ]
  },
  {
   "cell_type": "code",
   "execution_count": 2,
   "metadata": {},
   "outputs": [
    {
     "name": "stderr",
     "output_type": "stream",
     "text": [
      "C:\\Users\\Susmit\\Anaconda3\\lib\\site-packages\\IPython\\core\\interactiveshell.py:2698: DtypeWarning: Columns (18,19) have mixed types. Specify dtype option on import or set low_memory=False.\n",
      "  interactivity=interactivity, compiler=compiler, result=result)\n",
      "C:\\Users\\Susmit\\Anaconda3\\lib\\site-packages\\IPython\\core\\interactiveshell.py:2698: DtypeWarning: Columns (18) have mixed types. Specify dtype option on import or set low_memory=False.\n",
      "  interactivity=interactivity, compiler=compiler, result=result)\n"
     ]
    },
    {
     "data": {
      "text/html": [
       "<div>\n",
       "<style>\n",
       "    .dataframe thead tr:only-child th {\n",
       "        text-align: right;\n",
       "    }\n",
       "\n",
       "    .dataframe thead th {\n",
       "        text-align: left;\n",
       "    }\n",
       "\n",
       "    .dataframe tbody tr th {\n",
       "        vertical-align: top;\n",
       "    }\n",
       "</style>\n",
       "<table border=\"1\" class=\"dataframe\">\n",
       "  <thead>\n",
       "    <tr style=\"text-align: right;\">\n",
       "      <th></th>\n",
       "      <th>Source IP</th>\n",
       "      <th>Source Port</th>\n",
       "      <th>Destination IP</th>\n",
       "      <th>Destination Port</th>\n",
       "      <th>Protocol</th>\n",
       "      <th>Flow Duration</th>\n",
       "      <th>Total Fwd Packets</th>\n",
       "      <th>Total Backward Packets</th>\n",
       "      <th>Total Length of Fwd Packets</th>\n",
       "      <th>Total Length of Bwd Packets</th>\n",
       "      <th>...</th>\n",
       "      <th>min_seg_size_forward</th>\n",
       "      <th>Active Mean</th>\n",
       "      <th>Active Std</th>\n",
       "      <th>Active Max</th>\n",
       "      <th>Active Min</th>\n",
       "      <th>Idle Mean</th>\n",
       "      <th>Idle Std</th>\n",
       "      <th>Idle Max</th>\n",
       "      <th>Idle Min</th>\n",
       "      <th>Label</th>\n",
       "    </tr>\n",
       "  </thead>\n",
       "  <tbody>\n",
       "    <tr>\n",
       "      <th>0</th>\n",
       "      <td>192.168.10.16</td>\n",
       "      <td>41936.0</td>\n",
       "      <td>199.244.48.55</td>\n",
       "      <td>443.0</td>\n",
       "      <td>6.0</td>\n",
       "      <td>143347.0</td>\n",
       "      <td>47.0</td>\n",
       "      <td>60.0</td>\n",
       "      <td>1325.0</td>\n",
       "      <td>108751.0</td>\n",
       "      <td>...</td>\n",
       "      <td>20.0</td>\n",
       "      <td>0.0</td>\n",
       "      <td>0.0</td>\n",
       "      <td>0.0</td>\n",
       "      <td>0.0</td>\n",
       "      <td>0.0</td>\n",
       "      <td>0.0</td>\n",
       "      <td>0.0</td>\n",
       "      <td>0.0</td>\n",
       "      <td>BENIGN</td>\n",
       "    </tr>\n",
       "    <tr>\n",
       "      <th>1</th>\n",
       "      <td>192.168.10.16</td>\n",
       "      <td>42970.0</td>\n",
       "      <td>54.210.195.63</td>\n",
       "      <td>80.0</td>\n",
       "      <td>6.0</td>\n",
       "      <td>50905.0</td>\n",
       "      <td>1.0</td>\n",
       "      <td>1.0</td>\n",
       "      <td>0.0</td>\n",
       "      <td>0.0</td>\n",
       "      <td>...</td>\n",
       "      <td>32.0</td>\n",
       "      <td>0.0</td>\n",
       "      <td>0.0</td>\n",
       "      <td>0.0</td>\n",
       "      <td>0.0</td>\n",
       "      <td>0.0</td>\n",
       "      <td>0.0</td>\n",
       "      <td>0.0</td>\n",
       "      <td>0.0</td>\n",
       "      <td>BENIGN</td>\n",
       "    </tr>\n",
       "    <tr>\n",
       "      <th>2</th>\n",
       "      <td>192.168.10.16</td>\n",
       "      <td>41944.0</td>\n",
       "      <td>199.244.48.55</td>\n",
       "      <td>443.0</td>\n",
       "      <td>6.0</td>\n",
       "      <td>143899.0</td>\n",
       "      <td>46.0</td>\n",
       "      <td>58.0</td>\n",
       "      <td>1325.0</td>\n",
       "      <td>110185.0</td>\n",
       "      <td>...</td>\n",
       "      <td>20.0</td>\n",
       "      <td>0.0</td>\n",
       "      <td>0.0</td>\n",
       "      <td>0.0</td>\n",
       "      <td>0.0</td>\n",
       "      <td>0.0</td>\n",
       "      <td>0.0</td>\n",
       "      <td>0.0</td>\n",
       "      <td>0.0</td>\n",
       "      <td>BENIGN</td>\n",
       "    </tr>\n",
       "    <tr>\n",
       "      <th>3</th>\n",
       "      <td>192.168.10.17</td>\n",
       "      <td>12886.0</td>\n",
       "      <td>192.168.10.3</td>\n",
       "      <td>53.0</td>\n",
       "      <td>17.0</td>\n",
       "      <td>313.0</td>\n",
       "      <td>2.0</td>\n",
       "      <td>2.0</td>\n",
       "      <td>90.0</td>\n",
       "      <td>206.0</td>\n",
       "      <td>...</td>\n",
       "      <td>20.0</td>\n",
       "      <td>0.0</td>\n",
       "      <td>0.0</td>\n",
       "      <td>0.0</td>\n",
       "      <td>0.0</td>\n",
       "      <td>0.0</td>\n",
       "      <td>0.0</td>\n",
       "      <td>0.0</td>\n",
       "      <td>0.0</td>\n",
       "      <td>BENIGN</td>\n",
       "    </tr>\n",
       "    <tr>\n",
       "      <th>4</th>\n",
       "      <td>192.168.10.16</td>\n",
       "      <td>41942.0</td>\n",
       "      <td>199.244.48.55</td>\n",
       "      <td>443.0</td>\n",
       "      <td>6.0</td>\n",
       "      <td>142605.0</td>\n",
       "      <td>45.0</td>\n",
       "      <td>58.0</td>\n",
       "      <td>1325.0</td>\n",
       "      <td>108751.0</td>\n",
       "      <td>...</td>\n",
       "      <td>20.0</td>\n",
       "      <td>0.0</td>\n",
       "      <td>0.0</td>\n",
       "      <td>0.0</td>\n",
       "      <td>0.0</td>\n",
       "      <td>0.0</td>\n",
       "      <td>0.0</td>\n",
       "      <td>0.0</td>\n",
       "      <td>0.0</td>\n",
       "      <td>BENIGN</td>\n",
       "    </tr>\n",
       "  </tbody>\n",
       "</table>\n",
       "<p>5 rows × 83 columns</p>\n",
       "</div>"
      ],
      "text/plain": [
       "       Source IP   Source Port  Destination IP   Destination Port   Protocol  \\\n",
       "0  192.168.10.16       41936.0   199.244.48.55              443.0        6.0   \n",
       "1  192.168.10.16       42970.0   54.210.195.63               80.0        6.0   \n",
       "2  192.168.10.16       41944.0   199.244.48.55              443.0        6.0   \n",
       "3  192.168.10.17       12886.0    192.168.10.3               53.0       17.0   \n",
       "4  192.168.10.16       41942.0   199.244.48.55              443.0        6.0   \n",
       "\n",
       "    Flow Duration   Total Fwd Packets   Total Backward Packets  \\\n",
       "0        143347.0                47.0                     60.0   \n",
       "1         50905.0                 1.0                      1.0   \n",
       "2        143899.0                46.0                     58.0   \n",
       "3           313.0                 2.0                      2.0   \n",
       "4        142605.0                45.0                     58.0   \n",
       "\n",
       "   Total Length of Fwd Packets   Total Length of Bwd Packets   ...    \\\n",
       "0                       1325.0                      108751.0   ...     \n",
       "1                          0.0                           0.0   ...     \n",
       "2                       1325.0                      110185.0   ...     \n",
       "3                         90.0                         206.0   ...     \n",
       "4                       1325.0                      108751.0   ...     \n",
       "\n",
       "    min_seg_size_forward  Active Mean   Active Std   Active Max   Active Min  \\\n",
       "0                   20.0          0.0          0.0          0.0          0.0   \n",
       "1                   32.0          0.0          0.0          0.0          0.0   \n",
       "2                   20.0          0.0          0.0          0.0          0.0   \n",
       "3                   20.0          0.0          0.0          0.0          0.0   \n",
       "4                   20.0          0.0          0.0          0.0          0.0   \n",
       "\n",
       "   Idle Mean   Idle Std   Idle Max  Idle Min   Label  \n",
       "0        0.0        0.0        0.0       0.0  BENIGN  \n",
       "1        0.0        0.0        0.0       0.0  BENIGN  \n",
       "2        0.0        0.0        0.0       0.0  BENIGN  \n",
       "3        0.0        0.0        0.0       0.0  BENIGN  \n",
       "4        0.0        0.0        0.0       0.0  BENIGN  \n",
       "\n",
       "[5 rows x 83 columns]"
      ]
     },
     "execution_count": 2,
     "metadata": {},
     "output_type": "execute_result"
    }
   ],
   "source": [
    "#load dataset\n",
    "Friday = pd.read_csv(\"Friday-Afternoon-DDos.csv\")\n",
    "Friday_ps = pd.read_csv(\"Friday-Afternoon-PortScan.csv\")\n",
    "Friday_bot = pd.read_csv(\"Friday-Morning-bot.csv\")\n",
    "Monday = pd.read_csv(\"Monday-Normal.csv\")\n",
    "Thursday_i = pd.read_csv(\"Thursday-Afternoon-Infilteration.csv\")\n",
    "# Thursday_w = pd.read_csv(\"Thursday-Morning-WebAttacks.csv\")\n",
    "Tue = pd.read_csv(\"Tuesday-WorkingHours-FTP-SSH.csv\")\n",
    "#Wed = pd.read_csv(\"Wednesday-DoS.csv\")\n",
    "\n",
    "df = pd.DataFrame()\n",
    "df = df.append(Friday)\n",
    "df = df.append(Friday_ps)\n",
    "df = df.append(Friday_bot)\n",
    "df = df.append(Monday)\n",
    "df = df.append(Thursday_i)\n",
    "#df.append(Thursday_w)\n",
    "df = df.append(Tue)\n",
    "# df = df.append(Wed)\n",
    "df.head()\n",
    "\n",
    "\n",
    "#genfromtxt handles the datatype as we are using both string and float\n",
    "# scaler = MinMaxScaler()\n",
    "# scaled_data = scaler.fit_transform(data)\n",
    "\n"
   ]
  },
  {
   "cell_type": "code",
   "execution_count": 3,
   "metadata": {},
   "outputs": [
    {
     "name": "stdout",
     "output_type": "stream",
     "text": [
      "['BENIGN' 'BENIGN' 'BENIGN' ..., 'BENIGN' 'BENIGN' 'BENIGN']\n"
     ]
    }
   ],
   "source": [
    "data=df.values\n",
    "y = data[:,82]\n",
    "print(y)\n",
    "df[['Source IP1','Source IP2','Source IP3', 'Source IP4']] = df[' Source IP'].str.split('.', expand=True)\n",
    "df[['Destination IP1','Destination IP2','Destination IP3', 'Destination IP4']] = df[' Destination IP'].str.split('.', expand=True)\n",
    "# print(test)\n",
    "\n",
    "#df[['Source IP1','Source IP2','Source IP3', 'Source IP4', 'Destination IP1','Destination IP2','Destination IP3', 'Destination IP4', 'Flow Bytes/s', ' Flow Packets/s']] = df[['Source IP1','Source IP2','Source IP3', 'Source IP4', 'Destination IP1','Destination IP2','Destination IP3', 'Destination IP4', 'Flow Bytes/s', ' Flow Packets/s']].apply(pd.to_numeric, errors='ignore')\n",
    "\n",
    "df = df.drop(' Source IP', axis=1)\n",
    "df = df.drop(' Destination IP', axis=1)\n",
    "df = df.drop(' Label', axis=1)\n",
    "\n",
    "#df_new = df.values\n",
    "# print(test)\n",
    "#x = df_new[:,0:88]\n",
    "# print(x)"
   ]
  },
  {
   "cell_type": "code",
   "execution_count": 4,
   "metadata": {
    "collapsed": true
   },
   "outputs": [],
   "source": [
    "df[['Source IP1','Source IP2','Source IP3', 'Source IP4', 'Destination IP1','Destination IP2','Destination IP3', 'Destination IP4']] = df[['Source IP1','Source IP2','Source IP3', 'Source IP4', 'Destination IP1','Destination IP2','Destination IP3', 'Destination IP4']].apply(pd.to_numeric)"
   ]
  },
  {
   "cell_type": "code",
   "execution_count": null,
   "metadata": {
    "collapsed": true
   },
   "outputs": [],
   "source": [
    "df.i"
   ]
  },
  {
   "cell_type": "code",
   "execution_count": 10,
   "metadata": {
    "scrolled": true
   },
   "outputs": [
    {
     "data": {
      "text/plain": [
       " Source Port                         443\n",
       " Destination Port                  55043\n",
       " Protocol                              6\n",
       " Flow Duration                         0\n",
       " Total Fwd Packets                     2\n",
       " Total Backward Packets                0\n",
       "Total Length of Fwd Packets           12\n",
       " Total Length of Bwd Packets           0\n",
       " Fwd Packet Length Max                 6\n",
       " Fwd Packet Length Min                 6\n",
       " Fwd Packet Length Mean                6\n",
       " Fwd Packet Length Std                 0\n",
       "Bwd Packet Length Max                  0\n",
       " Bwd Packet Length Min                 0\n",
       " Bwd Packet Length Mean                0\n",
       " Bwd Packet Length Std                 0\n",
       "Flow Bytes/s                    Infinity\n",
       " Flow Packets/s                 Infinity\n",
       " Flow IAT Mean                         0\n",
       " Flow IAT Std                          0\n",
       " Flow IAT Max                          0\n",
       " Flow IAT Min                          0\n",
       "Fwd IAT Total                          0\n",
       " Fwd IAT Mean                          0\n",
       " Fwd IAT Std                           0\n",
       " Fwd IAT Max                           0\n",
       " Fwd IAT Min                           0\n",
       "Bwd IAT Total                          0\n",
       " Bwd IAT Mean                          0\n",
       " Bwd IAT Std                           0\n",
       "                                  ...   \n",
       "Fwd Avg Bytes/Bulk                     0\n",
       " Fwd Avg Packets/Bulk                  0\n",
       " Fwd Avg Bulk Rate                     0\n",
       " Bwd Avg Bytes/Bulk                    0\n",
       " Bwd Avg Packets/Bulk                  0\n",
       "Bwd Avg Bulk Rate                      0\n",
       "Subflow Fwd Packets                    2\n",
       " Subflow Fwd Bytes                    12\n",
       " Subflow Bwd Packets                   0\n",
       " Subflow Bwd Bytes                     0\n",
       "Init_Win_bytes_forward              4737\n",
       " Init_Win_bytes_backward              -1\n",
       " act_data_pkt_fwd                      1\n",
       " min_seg_size_forward                 20\n",
       "Active Mean                            0\n",
       " Active Std                            0\n",
       " Active Max                            0\n",
       " Active Min                            0\n",
       "Idle Mean                              0\n",
       " Idle Std                              0\n",
       " Idle Max                              0\n",
       " Idle Min                              0\n",
       "Source IP1                           185\n",
       "Source IP2                            86\n",
       "Source IP3                           137\n",
       "Source IP4                            17\n",
       "Destination IP1                      192\n",
       "Destination IP2                      168\n",
       "Destination IP3                       10\n",
       "Destination IP4                        5\n",
       "Name: 618, Length: 88, dtype: object"
      ]
     },
     "execution_count": 10,
     "metadata": {},
     "output_type": "execute_result"
    }
   ],
   "source": [
    "df.iloc[618]"
   ]
  },
  {
   "cell_type": "code",
   "execution_count": 7,
   "metadata": {},
   "outputs": [
    {
     "name": "stdout",
     "output_type": "stream",
     "text": [
      "<class 'pandas.core.frame.DataFrame'>\n",
      "Int64Index: 1967674 entries, 0 to 445908\n",
      "Data columns (total 88 columns):\n",
      " Source Port                    float64\n",
      " Destination Port               float64\n",
      " Protocol                       float64\n",
      " Flow Duration                  float64\n",
      " Total Fwd Packets              float64\n",
      " Total Backward Packets         float64\n",
      "Total Length of Fwd Packets     float64\n",
      " Total Length of Bwd Packets    float64\n",
      " Fwd Packet Length Max          float64\n",
      " Fwd Packet Length Min          float64\n",
      " Fwd Packet Length Mean         float64\n",
      " Fwd Packet Length Std          float64\n",
      "Bwd Packet Length Max           float64\n",
      " Bwd Packet Length Min          float64\n",
      " Bwd Packet Length Mean         float64\n",
      " Bwd Packet Length Std          float64\n",
      "Flow Bytes/s                    object\n",
      " Flow Packets/s                 object\n",
      " Flow IAT Mean                  float64\n",
      " Flow IAT Std                   float64\n",
      " Flow IAT Max                   float64\n",
      " Flow IAT Min                   float64\n",
      "Fwd IAT Total                   float64\n",
      " Fwd IAT Mean                   float64\n",
      " Fwd IAT Std                    float64\n",
      " Fwd IAT Max                    float64\n",
      " Fwd IAT Min                    float64\n",
      "Bwd IAT Total                   float64\n",
      " Bwd IAT Mean                   float64\n",
      " Bwd IAT Std                    float64\n",
      " Bwd IAT Max                    float64\n",
      " Bwd IAT Min                    float64\n",
      "Fwd PSH Flags                   float64\n",
      " Bwd PSH Flags                  float64\n",
      " Fwd URG Flags                  float64\n",
      " Bwd URG Flags                  float64\n",
      " Fwd Header Length              float64\n",
      " Bwd Header Length              float64\n",
      "Fwd Packets/s                   float64\n",
      " Bwd Packets/s                  float64\n",
      " Min Packet Length              float64\n",
      " Max Packet Length              float64\n",
      " Packet Length Mean             float64\n",
      " Packet Length Std              float64\n",
      " Packet Length Variance         float64\n",
      "FIN Flag Count                  float64\n",
      " SYN Flag Count                 float64\n",
      " RST Flag Count                 float64\n",
      " PSH Flag Count                 float64\n",
      " ACK Flag Count                 float64\n",
      " URG Flag Count                 float64\n",
      " CWE Flag Count                 float64\n",
      " ECE Flag Count                 float64\n",
      " Down/Up Ratio                  float64\n",
      " Average Packet Size            float64\n",
      " Avg Fwd Segment Size           float64\n",
      " Avg Bwd Segment Size           float64\n",
      " Fwd Header Length.1            float64\n",
      "Fwd Avg Bytes/Bulk              float64\n",
      " Fwd Avg Packets/Bulk           float64\n",
      " Fwd Avg Bulk Rate              float64\n",
      " Bwd Avg Bytes/Bulk             float64\n",
      " Bwd Avg Packets/Bulk           float64\n",
      "Bwd Avg Bulk Rate               float64\n",
      "Subflow Fwd Packets             float64\n",
      " Subflow Fwd Bytes              float64\n",
      " Subflow Bwd Packets            float64\n",
      " Subflow Bwd Bytes              float64\n",
      "Init_Win_bytes_forward          float64\n",
      " Init_Win_bytes_backward        float64\n",
      " act_data_pkt_fwd               float64\n",
      " min_seg_size_forward           float64\n",
      "Active Mean                     float64\n",
      " Active Std                     float64\n",
      " Active Max                     float64\n",
      " Active Min                     float64\n",
      "Idle Mean                       float64\n",
      " Idle Std                       float64\n",
      " Idle Max                       float64\n",
      " Idle Min                       float64\n",
      "Source IP1                      int64\n",
      "Source IP2                      int64\n",
      "Source IP3                      int64\n",
      "Source IP4                      int64\n",
      "Destination IP1                 int64\n",
      "Destination IP2                 int64\n",
      "Destination IP3                 int64\n",
      "Destination IP4                 int64\n",
      "dtypes: float64(78), int64(8), object(2)\n",
      "memory usage: 1.5 GB\n"
     ]
    }
   ],
   "source": [
    "df.info(memory_usage='deep')"
   ]
  },
  {
   "cell_type": "code",
   "execution_count": 7,
   "metadata": {},
   "outputs": [
    {
     "name": "stdout",
     "output_type": "stream",
     "text": [
      "['BENIGN' 'BENIGN' 'BENIGN' ..., 'BENIGN' 'BENIGN' 'BENIGN']\n",
      "[0 0 0 ..., 0 0 0]\n",
      "[[ 1.  0.  0. ...,  0.  0.  0.]\n",
      " [ 1.  0.  0. ...,  0.  0.  0.]\n",
      " [ 1.  0.  0. ...,  0.  0.  0.]\n",
      " ..., \n",
      " [ 1.  0.  0. ...,  0.  0.  0.]\n",
      " [ 1.  0.  0. ...,  0.  0.  0.]\n",
      " [ 1.  0.  0. ...,  0.  0.  0.]]\n"
     ]
    }
   ],
   "source": [
    "# values = array(y)\n",
    "# print(values)\n",
    "\n",
    "# # integer encode\n",
    "# label_encoder = LabelEncoder()\n",
    "# integer_encoded = label_encoder.fit_transform(values)\n",
    "# print(integer_encoded)\n",
    "\n",
    "# binary encode\n",
    "# onehot_encoder = OneHotEncoder(sparse=False)\n",
    "# integer_encoded = integer_encoded.reshape(len(integer_encoded), 1)\n",
    "# onehot_encoded = onehot_encoder.fit_transform(integer_encoded)\n",
    "# print(onehot_encoded)"
   ]
  },
  {
   "cell_type": "code",
   "execution_count": 14,
   "metadata": {},
   "outputs": [
    {
     "name": "stdout",
     "output_type": "stream",
     "text": [
      "[0 0 0 ..., 0 0 0]\n"
     ]
    }
   ],
   "source": [
    "# encode class values as integers\n",
    "encoder = LabelEncoder()\n",
    "encoder.fit(y)\n",
    "encoded_y= encoder.transform(y)\n",
    "\n",
    "#convert integers to dummy variables (one hot encoding)\n",
    "dummy_y = np_utils.to_categorical(encoded_y)\n",
    "\n",
    "test_data = [encoded_y, dummy_y]\n",
    "\n",
    "# df_test = pd.DataFrame(test_data)\n",
    "# df_test.to_csv('test_data.txt', index = False, header = False)\n",
    "\n",
    "print(encoded_y)"
   ]
  },
  {
   "cell_type": "code",
   "execution_count": 15,
   "metadata": {
    "collapsed": true
   },
   "outputs": [],
   "source": [
    "model = Sequential()\n",
    "model.add(Dense(120, input_dim = 88,activation='relu'))\n",
    "model.add(Dense(82, activation='relu'))\n",
    "model.add(Dense(31, activation='relu'))\n",
    "model.add(Dense(1,activation='sigmoid'))"
   ]
  },
  {
   "cell_type": "code",
   "execution_count": 16,
   "metadata": {
    "collapsed": true
   },
   "outputs": [],
   "source": [
    "#compile model\n",
    "model.compile(loss='binary_crossentropy', optimizer='adam', metrics=['accuracy'])"
   ]
  },
  {
   "cell_type": "code",
   "execution_count": 19,
   "metadata": {},
   "outputs": [
    {
     "name": "stdout",
     "output_type": "stream",
     "text": [
      "Epoch 1/20\n",
      "  50000/1967674 [..............................] - ETA: 3:32 - loss: nan - acc: 0.0000e+00"
     ]
    },
    {
     "ename": "KeyboardInterrupt",
     "evalue": "",
     "output_type": "error",
     "traceback": [
      "\u001b[1;31m---------------------------------------------------------------------------\u001b[0m",
      "\u001b[1;31mKeyboardInterrupt\u001b[0m                         Traceback (most recent call last)",
      "\u001b[1;32m<ipython-input-19-7e60bf2337d3>\u001b[0m in \u001b[0;36m<module>\u001b[1;34m()\u001b[0m\n\u001b[1;32m----> 1\u001b[1;33m \u001b[0mmodel\u001b[0m\u001b[1;33m.\u001b[0m\u001b[0mfit\u001b[0m\u001b[1;33m(\u001b[0m\u001b[0mx\u001b[0m\u001b[1;33m,\u001b[0m\u001b[0mencoded_y\u001b[0m\u001b[1;33m,\u001b[0m \u001b[0mepochs\u001b[0m\u001b[1;33m=\u001b[0m\u001b[1;36m20\u001b[0m\u001b[1;33m,\u001b[0m \u001b[0mbatch_size\u001b[0m\u001b[1;33m=\u001b[0m\u001b[1;36m5000\u001b[0m\u001b[1;33m)\u001b[0m\u001b[1;33m\u001b[0m\u001b[0m\n\u001b[0m",
      "\u001b[1;32m~\\Anaconda3\\envs\\tensorflow\\lib\\site-packages\\keras\\models.py\u001b[0m in \u001b[0;36mfit\u001b[1;34m(self, x, y, batch_size, epochs, verbose, callbacks, validation_split, validation_data, shuffle, class_weight, sample_weight, initial_epoch, steps_per_epoch, validation_steps, **kwargs)\u001b[0m\n\u001b[0;32m   1000\u001b[0m                               \u001b[0minitial_epoch\u001b[0m\u001b[1;33m=\u001b[0m\u001b[0minitial_epoch\u001b[0m\u001b[1;33m,\u001b[0m\u001b[1;33m\u001b[0m\u001b[0m\n\u001b[0;32m   1001\u001b[0m                               \u001b[0msteps_per_epoch\u001b[0m\u001b[1;33m=\u001b[0m\u001b[0msteps_per_epoch\u001b[0m\u001b[1;33m,\u001b[0m\u001b[1;33m\u001b[0m\u001b[0m\n\u001b[1;32m-> 1002\u001b[1;33m                               validation_steps=validation_steps)\n\u001b[0m\u001b[0;32m   1003\u001b[0m \u001b[1;33m\u001b[0m\u001b[0m\n\u001b[0;32m   1004\u001b[0m     def evaluate(self, x=None, y=None,\n",
      "\u001b[1;32m~\\Anaconda3\\envs\\tensorflow\\lib\\site-packages\\keras\\engine\\training.py\u001b[0m in \u001b[0;36mfit\u001b[1;34m(self, x, y, batch_size, epochs, verbose, callbacks, validation_split, validation_data, shuffle, class_weight, sample_weight, initial_epoch, steps_per_epoch, validation_steps, **kwargs)\u001b[0m\n\u001b[0;32m   1703\u001b[0m                               \u001b[0minitial_epoch\u001b[0m\u001b[1;33m=\u001b[0m\u001b[0minitial_epoch\u001b[0m\u001b[1;33m,\u001b[0m\u001b[1;33m\u001b[0m\u001b[0m\n\u001b[0;32m   1704\u001b[0m                               \u001b[0msteps_per_epoch\u001b[0m\u001b[1;33m=\u001b[0m\u001b[0msteps_per_epoch\u001b[0m\u001b[1;33m,\u001b[0m\u001b[1;33m\u001b[0m\u001b[0m\n\u001b[1;32m-> 1705\u001b[1;33m                               validation_steps=validation_steps)\n\u001b[0m\u001b[0;32m   1706\u001b[0m \u001b[1;33m\u001b[0m\u001b[0m\n\u001b[0;32m   1707\u001b[0m     def evaluate(self, x=None, y=None,\n",
      "\u001b[1;32m~\\Anaconda3\\envs\\tensorflow\\lib\\site-packages\\keras\\engine\\training.py\u001b[0m in \u001b[0;36m_fit_loop\u001b[1;34m(self, f, ins, out_labels, batch_size, epochs, verbose, callbacks, val_f, val_ins, shuffle, callback_metrics, initial_epoch, steps_per_epoch, validation_steps)\u001b[0m\n\u001b[0;32m   1227\u001b[0m                                         \u001b[1;34m'If using HDF5 input data, '\u001b[0m\u001b[1;33m\u001b[0m\u001b[0m\n\u001b[0;32m   1228\u001b[0m                                         'pass shuffle=\"batch\".')\n\u001b[1;32m-> 1229\u001b[1;33m                     \u001b[0mbatch_logs\u001b[0m \u001b[1;33m=\u001b[0m \u001b[1;33m{\u001b[0m\u001b[1;33m}\u001b[0m\u001b[1;33m\u001b[0m\u001b[0m\n\u001b[0m\u001b[0;32m   1230\u001b[0m                     \u001b[0mbatch_logs\u001b[0m\u001b[1;33m[\u001b[0m\u001b[1;34m'batch'\u001b[0m\u001b[1;33m]\u001b[0m \u001b[1;33m=\u001b[0m \u001b[0mbatch_index\u001b[0m\u001b[1;33m\u001b[0m\u001b[0m\n\u001b[0;32m   1231\u001b[0m                     \u001b[0mbatch_logs\u001b[0m\u001b[1;33m[\u001b[0m\u001b[1;34m'size'\u001b[0m\u001b[1;33m]\u001b[0m \u001b[1;33m=\u001b[0m \u001b[0mlen\u001b[0m\u001b[1;33m(\u001b[0m\u001b[0mbatch_ids\u001b[0m\u001b[1;33m)\u001b[0m\u001b[1;33m\u001b[0m\u001b[0m\n",
      "\u001b[1;31mKeyboardInterrupt\u001b[0m: "
     ]
    }
   ],
   "source": [
    "model.fit(x,encoded_y, epochs=20, batch_size=5000)"
   ]
  },
  {
   "cell_type": "code",
   "execution_count": null,
   "metadata": {
    "collapsed": true
   },
   "outputs": [],
   "source": [
    "\n",
    "\n",
    "# evaluate the model\n",
    "scores = model.evaluate(x, y)\n",
    "print(\"\\n%s: %.2f%%\" % (model.metrics_names[1], scores[1]*100))\n",
    "\n",
    "# evaluate the model\n",
    "scores = model.evaluate(x, y)\n",
    "print(\"\\n%s: %.2f%%\" % (model.metrics_names[1], scores[1]*100))"
   ]
  },
  {
   "cell_type": "markdown",
   "metadata": {},
   "source": []
  }
 ],
 "metadata": {
  "kernelspec": {
   "display_name": "Python 3",
   "language": "python",
   "name": "python3"
  },
  "language_info": {
   "codemirror_mode": {
    "name": "ipython",
    "version": 3
   },
   "file_extension": ".py",
   "mimetype": "text/x-python",
   "name": "python",
   "nbconvert_exporter": "python",
   "pygments_lexer": "ipython3",
   "version": "3.6.3"
  }
 },
 "nbformat": 4,
 "nbformat_minor": 2
}
